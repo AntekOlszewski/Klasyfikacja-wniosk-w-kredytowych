{
 "cells": [
  {
   "cell_type": "markdown",
   "metadata": {},
   "source": [
    "## Laboratorium PRiAD ##\n",
    "\n",
    "# Projekt: Klasyfikacja wniosków kredytowych #\n",
    "\n",
    "### Konrad Trusiewicz, Antoni Olszewski###\n",
    "#### 01.02.2022 ####"
   ]
  },
  {
   "cell_type": "code",
   "execution_count": 2,
   "metadata": {},
   "outputs": [],
   "source": [
    "import pandas as pd\n",
    "import numpy as np\n",
    "from sklearn.model_selection import train_test_split\n",
    "from sklearn.ensemble import RandomForestClassifier\n",
    "from sklearn import metrics\n",
    "from sklearn import tree\n",
    "import seaborn as sns\n",
    "import matplotlib.pyplot as plt\n",
    "\n",
    "pd.options.display.float_format = \"{:.3f}\".format"
   ]
  },
  {
   "cell_type": "code",
   "execution_count": 3,
   "metadata": {},
   "outputs": [],
   "source": [
    "df = pd.read_csv('crx.data', header=None, names=['Płeć','Wiek','Zadłużenie','Stan_cywilny','Bank','Wykształcenie','Pochodzenie','Lata_pracy','Poz_hist_kred','Umowa_o_pracę','Score_kredytowy','Prawo_jazdy','Obywatelstwo','Saldo_konta','Przychody','Wynik'], decimal='.', na_values='?', dtype = {'Płeć':'category','Stan_cywilny':'category','Bank':'category','Wykształcenie':'category','Pochodzenie':'category','Poz_hist_kred':'category','Umowa_o_pracę':'category','Prawo_jazdy':'category','Obywatelstwo':'category','Wynik':'category'})"
   ]
  },
  {
   "cell_type": "markdown",
   "metadata": {},
   "source": [
    "Na początku wczytaliśmy biblioteki i plik z bazą danych pobraną z https://archive.ics.uci.edu/ml/datasets/Credit+Approval Nadaliśmy poszczególnym kolumnom rodzaj i nazwy. "
   ]
  },
  {
   "cell_type": "code",
   "execution_count": 4,
   "metadata": {},
   "outputs": [
    {
     "data": {
      "text/html": [
       "<div>\n",
       "<style scoped>\n",
       "    .dataframe tbody tr th:only-of-type {\n",
       "        vertical-align: middle;\n",
       "    }\n",
       "\n",
       "    .dataframe tbody tr th {\n",
       "        vertical-align: top;\n",
       "    }\n",
       "\n",
       "    .dataframe thead th {\n",
       "        text-align: right;\n",
       "    }\n",
       "</style>\n",
       "<table border=\"1\" class=\"dataframe\">\n",
       "  <thead>\n",
       "    <tr style=\"text-align: right;\">\n",
       "      <th></th>\n",
       "      <th>Płeć</th>\n",
       "      <th>Wiek</th>\n",
       "      <th>Zadłużenie</th>\n",
       "      <th>Stan_cywilny</th>\n",
       "      <th>Bank</th>\n",
       "      <th>Wykształcenie</th>\n",
       "      <th>Pochodzenie</th>\n",
       "      <th>Lata_pracy</th>\n",
       "      <th>Poz_hist_kred</th>\n",
       "      <th>Umowa_o_pracę</th>\n",
       "      <th>Score_kredytowy</th>\n",
       "      <th>Prawo_jazdy</th>\n",
       "      <th>Obywatelstwo</th>\n",
       "      <th>Saldo_konta</th>\n",
       "      <th>Przychody</th>\n",
       "      <th>Wynik</th>\n",
       "    </tr>\n",
       "  </thead>\n",
       "  <tbody>\n",
       "    <tr>\n",
       "      <th>0</th>\n",
       "      <td>b</td>\n",
       "      <td>30.830</td>\n",
       "      <td>0.000</td>\n",
       "      <td>u</td>\n",
       "      <td>g</td>\n",
       "      <td>w</td>\n",
       "      <td>v</td>\n",
       "      <td>1.250</td>\n",
       "      <td>t</td>\n",
       "      <td>t</td>\n",
       "      <td>1</td>\n",
       "      <td>f</td>\n",
       "      <td>g</td>\n",
       "      <td>202.000</td>\n",
       "      <td>0</td>\n",
       "      <td>+</td>\n",
       "    </tr>\n",
       "    <tr>\n",
       "      <th>1</th>\n",
       "      <td>a</td>\n",
       "      <td>58.670</td>\n",
       "      <td>4.460</td>\n",
       "      <td>u</td>\n",
       "      <td>g</td>\n",
       "      <td>q</td>\n",
       "      <td>h</td>\n",
       "      <td>3.040</td>\n",
       "      <td>t</td>\n",
       "      <td>t</td>\n",
       "      <td>6</td>\n",
       "      <td>f</td>\n",
       "      <td>g</td>\n",
       "      <td>43.000</td>\n",
       "      <td>560</td>\n",
       "      <td>+</td>\n",
       "    </tr>\n",
       "    <tr>\n",
       "      <th>2</th>\n",
       "      <td>a</td>\n",
       "      <td>24.500</td>\n",
       "      <td>0.500</td>\n",
       "      <td>u</td>\n",
       "      <td>g</td>\n",
       "      <td>q</td>\n",
       "      <td>h</td>\n",
       "      <td>1.500</td>\n",
       "      <td>t</td>\n",
       "      <td>f</td>\n",
       "      <td>0</td>\n",
       "      <td>f</td>\n",
       "      <td>g</td>\n",
       "      <td>280.000</td>\n",
       "      <td>824</td>\n",
       "      <td>+</td>\n",
       "    </tr>\n",
       "    <tr>\n",
       "      <th>3</th>\n",
       "      <td>b</td>\n",
       "      <td>27.830</td>\n",
       "      <td>1.540</td>\n",
       "      <td>u</td>\n",
       "      <td>g</td>\n",
       "      <td>w</td>\n",
       "      <td>v</td>\n",
       "      <td>3.750</td>\n",
       "      <td>t</td>\n",
       "      <td>t</td>\n",
       "      <td>5</td>\n",
       "      <td>t</td>\n",
       "      <td>g</td>\n",
       "      <td>100.000</td>\n",
       "      <td>3</td>\n",
       "      <td>+</td>\n",
       "    </tr>\n",
       "    <tr>\n",
       "      <th>4</th>\n",
       "      <td>b</td>\n",
       "      <td>20.170</td>\n",
       "      <td>5.625</td>\n",
       "      <td>u</td>\n",
       "      <td>g</td>\n",
       "      <td>w</td>\n",
       "      <td>v</td>\n",
       "      <td>1.710</td>\n",
       "      <td>t</td>\n",
       "      <td>f</td>\n",
       "      <td>0</td>\n",
       "      <td>f</td>\n",
       "      <td>s</td>\n",
       "      <td>120.000</td>\n",
       "      <td>0</td>\n",
       "      <td>+</td>\n",
       "    </tr>\n",
       "  </tbody>\n",
       "</table>\n",
       "</div>"
      ],
      "text/plain": [
       "  Płeć   Wiek  Zadłużenie Stan_cywilny Bank Wykształcenie Pochodzenie  \\\n",
       "0    b 30.830       0.000            u    g             w           v   \n",
       "1    a 58.670       4.460            u    g             q           h   \n",
       "2    a 24.500       0.500            u    g             q           h   \n",
       "3    b 27.830       1.540            u    g             w           v   \n",
       "4    b 20.170       5.625            u    g             w           v   \n",
       "\n",
       "   Lata_pracy Poz_hist_kred Umowa_o_pracę  Score_kredytowy Prawo_jazdy  \\\n",
       "0       1.250             t             t                1           f   \n",
       "1       3.040             t             t                6           f   \n",
       "2       1.500             t             f                0           f   \n",
       "3       3.750             t             t                5           t   \n",
       "4       1.710             t             f                0           f   \n",
       "\n",
       "  Obywatelstwo  Saldo_konta  Przychody Wynik  \n",
       "0            g      202.000          0     +  \n",
       "1            g       43.000        560     +  \n",
       "2            g      280.000        824     +  \n",
       "3            g      100.000          3     +  \n",
       "4            s      120.000          0     +  "
      ]
     },
     "execution_count": 4,
     "metadata": {},
     "output_type": "execute_result"
    }
   ],
   "source": [
    "df.head()"
   ]
  },
  {
   "cell_type": "code",
   "execution_count": 5,
   "metadata": {},
   "outputs": [
    {
     "name": "stdout",
     "output_type": "stream",
     "text": [
      "690 wierszy.\n",
      "16 kolumn.\n"
     ]
    }
   ],
   "source": [
    "print(str(df.shape[0]) + ' wierszy.')\n",
    "print(str(df.shape[1]) + ' kolumn.')"
   ]
  },
  {
   "cell_type": "code",
   "execution_count": 6,
   "metadata": {},
   "outputs": [],
   "source": [
    "df.dropna(inplace=True)"
   ]
  },
  {
   "cell_type": "code",
   "execution_count": 7,
   "metadata": {},
   "outputs": [
    {
     "name": "stdout",
     "output_type": "stream",
     "text": [
      "653 wierszy.\n",
      "16 kolumn.\n"
     ]
    }
   ],
   "source": [
    "print(str(df.shape[0]) + ' wierszy.')\n",
    "print(str(df.shape[1]) + ' kolumn.')"
   ]
  },
  {
   "cell_type": "markdown",
   "metadata": {},
   "source": [
    "Zliczyliśmy liczbę kolumn i wierszy. Później usunęliśmy wiersze z brakującymi danymi - zostało usuniętych 37 wierszy."
   ]
  },
  {
   "cell_type": "code",
   "execution_count": 8,
   "metadata": {},
   "outputs": [
    {
     "data": {
      "text/html": [
       "<div>\n",
       "<style scoped>\n",
       "    .dataframe tbody tr th:only-of-type {\n",
       "        vertical-align: middle;\n",
       "    }\n",
       "\n",
       "    .dataframe tbody tr th {\n",
       "        vertical-align: top;\n",
       "    }\n",
       "\n",
       "    .dataframe thead th {\n",
       "        text-align: right;\n",
       "    }\n",
       "</style>\n",
       "<table border=\"1\" class=\"dataframe\">\n",
       "  <thead>\n",
       "    <tr style=\"text-align: right;\">\n",
       "      <th></th>\n",
       "      <th>Płeć</th>\n",
       "      <th>Stan_cywilny</th>\n",
       "      <th>Bank</th>\n",
       "      <th>Wykształcenie</th>\n",
       "      <th>Pochodzenie</th>\n",
       "      <th>Poz_hist_kred</th>\n",
       "      <th>Umowa_o_pracę</th>\n",
       "      <th>Prawo_jazdy</th>\n",
       "      <th>Obywatelstwo</th>\n",
       "      <th>Wynik</th>\n",
       "    </tr>\n",
       "  </thead>\n",
       "  <tbody>\n",
       "    <tr>\n",
       "      <th>count</th>\n",
       "      <td>653</td>\n",
       "      <td>653</td>\n",
       "      <td>653</td>\n",
       "      <td>653</td>\n",
       "      <td>653</td>\n",
       "      <td>653</td>\n",
       "      <td>653</td>\n",
       "      <td>653</td>\n",
       "      <td>653</td>\n",
       "      <td>653</td>\n",
       "    </tr>\n",
       "    <tr>\n",
       "      <th>unique</th>\n",
       "      <td>2</td>\n",
       "      <td>3</td>\n",
       "      <td>3</td>\n",
       "      <td>14</td>\n",
       "      <td>9</td>\n",
       "      <td>2</td>\n",
       "      <td>2</td>\n",
       "      <td>2</td>\n",
       "      <td>3</td>\n",
       "      <td>2</td>\n",
       "    </tr>\n",
       "    <tr>\n",
       "      <th>top</th>\n",
       "      <td>b</td>\n",
       "      <td>u</td>\n",
       "      <td>g</td>\n",
       "      <td>c</td>\n",
       "      <td>v</td>\n",
       "      <td>t</td>\n",
       "      <td>f</td>\n",
       "      <td>f</td>\n",
       "      <td>g</td>\n",
       "      <td>-</td>\n",
       "    </tr>\n",
       "    <tr>\n",
       "      <th>freq</th>\n",
       "      <td>450</td>\n",
       "      <td>499</td>\n",
       "      <td>499</td>\n",
       "      <td>133</td>\n",
       "      <td>381</td>\n",
       "      <td>349</td>\n",
       "      <td>366</td>\n",
       "      <td>351</td>\n",
       "      <td>598</td>\n",
       "      <td>357</td>\n",
       "    </tr>\n",
       "  </tbody>\n",
       "</table>\n",
       "</div>"
      ],
      "text/plain": [
       "       Płeć Stan_cywilny Bank Wykształcenie Pochodzenie Poz_hist_kred  \\\n",
       "count   653          653  653           653         653           653   \n",
       "unique    2            3    3            14           9             2   \n",
       "top       b            u    g             c           v             t   \n",
       "freq    450          499  499           133         381           349   \n",
       "\n",
       "       Umowa_o_pracę Prawo_jazdy Obywatelstwo Wynik  \n",
       "count            653         653          653   653  \n",
       "unique             2           2            3     2  \n",
       "top                f           f            g     -  \n",
       "freq             366         351          598   357  "
      ]
     },
     "execution_count": 8,
     "metadata": {},
     "output_type": "execute_result"
    }
   ],
   "source": [
    "df.select_dtypes(exclude = ['int64', 'float64']).describe()"
   ]
  },
  {
   "cell_type": "markdown",
   "metadata": {},
   "source": [
    "Wyświetliliśmy wszystkie atrybuty z rodzajem category. Możemy tu zacząc wstępna analizę atrybutów. Jak widzimy atrybuty Płeć, Poz_hist_kred, Umowa_o_pracę, Prawo_jazdy i Wynik maja tylko po 2 unikalne argumenty. Będziemy mogli dzięki temu później zamienić ich typy na binarne, co pomoże nam w klasyfikacji danych. "
   ]
  },
  {
   "cell_type": "code",
   "execution_count": 9,
   "metadata": {},
   "outputs": [
    {
     "data": {
      "text/html": [
       "<div>\n",
       "<style scoped>\n",
       "    .dataframe tbody tr th:only-of-type {\n",
       "        vertical-align: middle;\n",
       "    }\n",
       "\n",
       "    .dataframe tbody tr th {\n",
       "        vertical-align: top;\n",
       "    }\n",
       "\n",
       "    .dataframe thead th {\n",
       "        text-align: right;\n",
       "    }\n",
       "</style>\n",
       "<table border=\"1\" class=\"dataframe\">\n",
       "  <thead>\n",
       "    <tr style=\"text-align: right;\">\n",
       "      <th></th>\n",
       "      <th>Wiek</th>\n",
       "      <th>Zadłużenie</th>\n",
       "      <th>Lata_pracy</th>\n",
       "      <th>Score_kredytowy</th>\n",
       "      <th>Saldo_konta</th>\n",
       "      <th>Przychody</th>\n",
       "    </tr>\n",
       "  </thead>\n",
       "  <tbody>\n",
       "    <tr>\n",
       "      <th>count</th>\n",
       "      <td>653.000</td>\n",
       "      <td>653.000</td>\n",
       "      <td>653.000</td>\n",
       "      <td>653.000</td>\n",
       "      <td>653.000</td>\n",
       "      <td>653.000</td>\n",
       "    </tr>\n",
       "    <tr>\n",
       "      <th>mean</th>\n",
       "      <td>31.504</td>\n",
       "      <td>4.830</td>\n",
       "      <td>2.244</td>\n",
       "      <td>2.502</td>\n",
       "      <td>180.360</td>\n",
       "      <td>1013.761</td>\n",
       "    </tr>\n",
       "    <tr>\n",
       "      <th>std</th>\n",
       "      <td>11.838</td>\n",
       "      <td>5.027</td>\n",
       "      <td>3.371</td>\n",
       "      <td>4.968</td>\n",
       "      <td>168.297</td>\n",
       "      <td>5253.279</td>\n",
       "    </tr>\n",
       "    <tr>\n",
       "      <th>min</th>\n",
       "      <td>13.750</td>\n",
       "      <td>0.000</td>\n",
       "      <td>0.000</td>\n",
       "      <td>0.000</td>\n",
       "      <td>0.000</td>\n",
       "      <td>0.000</td>\n",
       "    </tr>\n",
       "    <tr>\n",
       "      <th>25%</th>\n",
       "      <td>22.580</td>\n",
       "      <td>1.040</td>\n",
       "      <td>0.165</td>\n",
       "      <td>0.000</td>\n",
       "      <td>73.000</td>\n",
       "      <td>0.000</td>\n",
       "    </tr>\n",
       "    <tr>\n",
       "      <th>50%</th>\n",
       "      <td>28.420</td>\n",
       "      <td>2.835</td>\n",
       "      <td>1.000</td>\n",
       "      <td>0.000</td>\n",
       "      <td>160.000</td>\n",
       "      <td>5.000</td>\n",
       "    </tr>\n",
       "    <tr>\n",
       "      <th>75%</th>\n",
       "      <td>38.250</td>\n",
       "      <td>7.500</td>\n",
       "      <td>2.625</td>\n",
       "      <td>3.000</td>\n",
       "      <td>272.000</td>\n",
       "      <td>400.000</td>\n",
       "    </tr>\n",
       "    <tr>\n",
       "      <th>max</th>\n",
       "      <td>76.750</td>\n",
       "      <td>28.000</td>\n",
       "      <td>28.500</td>\n",
       "      <td>67.000</td>\n",
       "      <td>2000.000</td>\n",
       "      <td>100000.000</td>\n",
       "    </tr>\n",
       "  </tbody>\n",
       "</table>\n",
       "</div>"
      ],
      "text/plain": [
       "         Wiek  Zadłużenie  Lata_pracy  Score_kredytowy  Saldo_konta  Przychody\n",
       "count 653.000     653.000     653.000          653.000      653.000    653.000\n",
       "mean   31.504       4.830       2.244            2.502      180.360   1013.761\n",
       "std    11.838       5.027       3.371            4.968      168.297   5253.279\n",
       "min    13.750       0.000       0.000            0.000        0.000      0.000\n",
       "25%    22.580       1.040       0.165            0.000       73.000      0.000\n",
       "50%    28.420       2.835       1.000            0.000      160.000      5.000\n",
       "75%    38.250       7.500       2.625            3.000      272.000    400.000\n",
       "max    76.750      28.000      28.500           67.000     2000.000 100000.000"
      ]
     },
     "execution_count": 9,
     "metadata": {},
     "output_type": "execute_result"
    }
   ],
   "source": [
    "df.select_dtypes(include = ['int64', 'float64']).describe()"
   ]
  },
  {
   "cell_type": "code",
   "execution_count": 10,
   "metadata": {},
   "outputs": [],
   "source": [
    "df.Poz_hist_kred.replace(['t','f'],[1,0], inplace=True)\n",
    "df.Umowa_o_pracę.replace(['t','f'],[1,0], inplace=True)\n",
    "df.Płeć.replace(['a','b'],[1,0], inplace=True)\n",
    "df.Prawo_jazdy.replace(['t','f'],[1,0], inplace=True)\n",
    "df.Wynik.replace(['+','-'],[1,0], inplace=True)\n",
    "\n",
    "df['Poz_hist_kred'] = df['Poz_hist_kred'].astype('uint8')\n",
    "df['Umowa_o_pracę'] = df['Umowa_o_pracę'].astype('uint8')\n",
    "df['Płeć'] = df['Płeć'].astype('uint8')\n",
    "df['Prawo_jazdy'] = df['Prawo_jazdy'].astype('uint8')\n",
    "df['Wynik'] = df['Wynik'].astype('uint8')"
   ]
  },
  {
   "cell_type": "markdown",
   "metadata": {},
   "source": [
    "Zamieniamy atrybuty o których wspomnieliśmy wcześniej na rodzaj binarny."
   ]
  },
  {
   "cell_type": "code",
   "execution_count": 11,
   "metadata": {},
   "outputs": [
    {
     "name": "stdout",
     "output_type": "stream",
     "text": [
      "<class 'pandas.core.frame.DataFrame'>\n",
      "Int64Index: 653 entries, 0 to 689\n",
      "Data columns (total 16 columns):\n",
      " #   Column           Non-Null Count  Dtype   \n",
      "---  ------           --------------  -----   \n",
      " 0   Płeć             653 non-null    uint8   \n",
      " 1   Wiek             653 non-null    float64 \n",
      " 2   Zadłużenie       653 non-null    float64 \n",
      " 3   Stan_cywilny     653 non-null    category\n",
      " 4   Bank             653 non-null    category\n",
      " 5   Wykształcenie    653 non-null    category\n",
      " 6   Pochodzenie      653 non-null    category\n",
      " 7   Lata_pracy       653 non-null    float64 \n",
      " 8   Poz_hist_kred    653 non-null    uint8   \n",
      " 9   Umowa_o_pracę    653 non-null    uint8   \n",
      " 10  Score_kredytowy  653 non-null    int64   \n",
      " 11  Prawo_jazdy      653 non-null    uint8   \n",
      " 12  Obywatelstwo     653 non-null    category\n",
      " 13  Saldo_konta      653 non-null    float64 \n",
      " 14  Przychody        653 non-null    int64   \n",
      " 15  Wynik            653 non-null    uint8   \n",
      "dtypes: category(5), float64(4), int64(2), uint8(5)\n",
      "memory usage: 43.5 KB\n"
     ]
    }
   ],
   "source": [
    "df.info()"
   ]
  },
  {
   "cell_type": "code",
   "execution_count": 12,
   "metadata": {},
   "outputs": [
    {
     "name": "stdout",
     "output_type": "stream",
     "text": [
      "   Num_of_obs  Per_of_obs\n",
      "u         499      76.417\n",
      "y         152      23.277\n",
      "l           2       0.306\n",
      "Crosstab:\n"
     ]
    },
    {
     "data": {
      "text/html": [
       "<div>\n",
       "<style scoped>\n",
       "    .dataframe tbody tr th:only-of-type {\n",
       "        vertical-align: middle;\n",
       "    }\n",
       "\n",
       "    .dataframe tbody tr th {\n",
       "        vertical-align: top;\n",
       "    }\n",
       "\n",
       "    .dataframe thead th {\n",
       "        text-align: right;\n",
       "    }\n",
       "</style>\n",
       "<table border=\"1\" class=\"dataframe\">\n",
       "  <thead>\n",
       "    <tr style=\"text-align: right;\">\n",
       "      <th>Wynik</th>\n",
       "      <th>0</th>\n",
       "      <th>1</th>\n",
       "    </tr>\n",
       "    <tr>\n",
       "      <th>Stan_cywilny</th>\n",
       "      <th></th>\n",
       "      <th></th>\n",
       "    </tr>\n",
       "  </thead>\n",
       "  <tbody>\n",
       "    <tr>\n",
       "      <th>l</th>\n",
       "      <td>0</td>\n",
       "      <td>2</td>\n",
       "    </tr>\n",
       "    <tr>\n",
       "      <th>u</th>\n",
       "      <td>250</td>\n",
       "      <td>249</td>\n",
       "    </tr>\n",
       "    <tr>\n",
       "      <th>y</th>\n",
       "      <td>107</td>\n",
       "      <td>45</td>\n",
       "    </tr>\n",
       "  </tbody>\n",
       "</table>\n",
       "</div>"
      ],
      "text/plain": [
       "Wynik           0    1\n",
       "Stan_cywilny          \n",
       "l               0    2\n",
       "u             250  249\n",
       "y             107   45"
      ]
     },
     "execution_count": 12,
     "metadata": {},
     "output_type": "execute_result"
    }
   ],
   "source": [
    "cat = pd.DataFrame(df.Stan_cywilny.value_counts())\n",
    "cat.rename(columns={'Stan_cywilny':'Num_of_obs'}, inplace=True)\n",
    "cat['Per_of_obs'] = cat['Num_of_obs']/df.shape[0]*100\n",
    "print(cat)\n",
    "print('Crosstab:')\n",
    "pd.crosstab(df.Stan_cywilny, df.Wynik)"
   ]
  },
  {
   "cell_type": "code",
   "execution_count": 13,
   "metadata": {},
   "outputs": [
    {
     "name": "stdout",
     "output_type": "stream",
     "text": [
      "    Num_of_obs  Per_of_obs\n",
      "g          499      76.417\n",
      "p          152      23.277\n",
      "gg           2       0.306\n",
      "Crosstab:\n"
     ]
    },
    {
     "data": {
      "text/html": [
       "<div>\n",
       "<style scoped>\n",
       "    .dataframe tbody tr th:only-of-type {\n",
       "        vertical-align: middle;\n",
       "    }\n",
       "\n",
       "    .dataframe tbody tr th {\n",
       "        vertical-align: top;\n",
       "    }\n",
       "\n",
       "    .dataframe thead th {\n",
       "        text-align: right;\n",
       "    }\n",
       "</style>\n",
       "<table border=\"1\" class=\"dataframe\">\n",
       "  <thead>\n",
       "    <tr style=\"text-align: right;\">\n",
       "      <th>Wynik</th>\n",
       "      <th>0</th>\n",
       "      <th>1</th>\n",
       "    </tr>\n",
       "    <tr>\n",
       "      <th>Bank</th>\n",
       "      <th></th>\n",
       "      <th></th>\n",
       "    </tr>\n",
       "  </thead>\n",
       "  <tbody>\n",
       "    <tr>\n",
       "      <th>g</th>\n",
       "      <td>250</td>\n",
       "      <td>249</td>\n",
       "    </tr>\n",
       "    <tr>\n",
       "      <th>gg</th>\n",
       "      <td>0</td>\n",
       "      <td>2</td>\n",
       "    </tr>\n",
       "    <tr>\n",
       "      <th>p</th>\n",
       "      <td>107</td>\n",
       "      <td>45</td>\n",
       "    </tr>\n",
       "  </tbody>\n",
       "</table>\n",
       "</div>"
      ],
      "text/plain": [
       "Wynik    0    1\n",
       "Bank           \n",
       "g      250  249\n",
       "gg       0    2\n",
       "p      107   45"
      ]
     },
     "execution_count": 13,
     "metadata": {},
     "output_type": "execute_result"
    }
   ],
   "source": [
    "cat = pd.DataFrame(df.Bank.value_counts())\n",
    "cat.rename(columns={'Bank':'Num_of_obs'}, inplace=True)\n",
    "cat['Per_of_obs'] = cat['Num_of_obs']/df.shape[0]*100\n",
    "print(cat)\n",
    "print('Crosstab:')\n",
    "pd.crosstab(df.Bank, df.Wynik)"
   ]
  },
  {
   "cell_type": "code",
   "execution_count": 14,
   "metadata": {},
   "outputs": [
    {
     "data": {
      "text/html": [
       "<div>\n",
       "<style scoped>\n",
       "    .dataframe tbody tr th:only-of-type {\n",
       "        vertical-align: middle;\n",
       "    }\n",
       "\n",
       "    .dataframe tbody tr th {\n",
       "        vertical-align: top;\n",
       "    }\n",
       "\n",
       "    .dataframe thead th {\n",
       "        text-align: right;\n",
       "    }\n",
       "</style>\n",
       "<table border=\"1\" class=\"dataframe\">\n",
       "  <thead>\n",
       "    <tr style=\"text-align: right;\">\n",
       "      <th></th>\n",
       "      <th></th>\n",
       "      <th>count</th>\n",
       "      <th>mean</th>\n",
       "      <th>std</th>\n",
       "      <th>min</th>\n",
       "      <th>25%</th>\n",
       "      <th>50%</th>\n",
       "      <th>75%</th>\n",
       "      <th>max</th>\n",
       "    </tr>\n",
       "    <tr>\n",
       "      <th>Bank</th>\n",
       "      <th>Stan_cywilny</th>\n",
       "      <th></th>\n",
       "      <th></th>\n",
       "      <th></th>\n",
       "      <th></th>\n",
       "      <th></th>\n",
       "      <th></th>\n",
       "      <th></th>\n",
       "      <th></th>\n",
       "    </tr>\n",
       "  </thead>\n",
       "  <tbody>\n",
       "    <tr>\n",
       "      <th>g</th>\n",
       "      <th>u</th>\n",
       "      <td>499.000</td>\n",
       "      <td>0.499</td>\n",
       "      <td>0.501</td>\n",
       "      <td>0.000</td>\n",
       "      <td>0.000</td>\n",
       "      <td>0.000</td>\n",
       "      <td>1.000</td>\n",
       "      <td>1.000</td>\n",
       "    </tr>\n",
       "    <tr>\n",
       "      <th>gg</th>\n",
       "      <th>l</th>\n",
       "      <td>2.000</td>\n",
       "      <td>1.000</td>\n",
       "      <td>0.000</td>\n",
       "      <td>1.000</td>\n",
       "      <td>1.000</td>\n",
       "      <td>1.000</td>\n",
       "      <td>1.000</td>\n",
       "      <td>1.000</td>\n",
       "    </tr>\n",
       "    <tr>\n",
       "      <th>p</th>\n",
       "      <th>y</th>\n",
       "      <td>152.000</td>\n",
       "      <td>0.296</td>\n",
       "      <td>0.458</td>\n",
       "      <td>0.000</td>\n",
       "      <td>0.000</td>\n",
       "      <td>0.000</td>\n",
       "      <td>1.000</td>\n",
       "      <td>1.000</td>\n",
       "    </tr>\n",
       "  </tbody>\n",
       "</table>\n",
       "</div>"
      ],
      "text/plain": [
       "                    count  mean   std   min   25%   50%   75%   max\n",
       "Bank Stan_cywilny                                                  \n",
       "g    u            499.000 0.499 0.501 0.000 0.000 0.000 1.000 1.000\n",
       "gg   l              2.000 1.000 0.000 1.000 1.000 1.000 1.000 1.000\n",
       "p    y            152.000 0.296 0.458 0.000 0.000 0.000 1.000 1.000"
      ]
     },
     "execution_count": 14,
     "metadata": {},
     "output_type": "execute_result"
    }
   ],
   "source": [
    "df.groupby(['Bank', 'Stan_cywilny'])['Wynik'].describe()"
   ]
  },
  {
   "cell_type": "markdown",
   "metadata": {},
   "source": [
    "Przy analizie danych zauważyliśmy, że atrybuty 'Bank' oraz 'Stan cywilny' są sobie równe. Może to być jakiś błąd w bazie danych lub nie, w każdym bądź razie postanowiliśmy usunąć jeden z atrybutów."
   ]
  },
  {
   "cell_type": "code",
   "execution_count": 15,
   "metadata": {},
   "outputs": [],
   "source": [
    "df = df.drop(columns = ['Stan_cywilny'])"
   ]
  },
  {
   "cell_type": "code",
   "execution_count": 16,
   "metadata": {},
   "outputs": [
    {
     "name": "stdout",
     "output_type": "stream",
     "text": [
      "<class 'pandas.core.frame.DataFrame'>\n",
      "Int64Index: 653 entries, 0 to 689\n",
      "Data columns (total 15 columns):\n",
      " #   Column           Non-Null Count  Dtype   \n",
      "---  ------           --------------  -----   \n",
      " 0   Płeć             653 non-null    uint8   \n",
      " 1   Wiek             653 non-null    float64 \n",
      " 2   Zadłużenie       653 non-null    float64 \n",
      " 3   Bank             653 non-null    category\n",
      " 4   Wykształcenie    653 non-null    category\n",
      " 5   Pochodzenie      653 non-null    category\n",
      " 6   Lata_pracy       653 non-null    float64 \n",
      " 7   Poz_hist_kred    653 non-null    uint8   \n",
      " 8   Umowa_o_pracę    653 non-null    uint8   \n",
      " 9   Score_kredytowy  653 non-null    int64   \n",
      " 10  Prawo_jazdy      653 non-null    uint8   \n",
      " 11  Obywatelstwo     653 non-null    category\n",
      " 12  Saldo_konta      653 non-null    float64 \n",
      " 13  Przychody        653 non-null    int64   \n",
      " 14  Wynik            653 non-null    uint8   \n",
      "dtypes: category(4), float64(4), int64(2), uint8(5)\n",
      "memory usage: 42.7 KB\n"
     ]
    }
   ],
   "source": [
    "df.info()"
   ]
  },
  {
   "cell_type": "markdown",
   "metadata": {},
   "source": [
    "Do klasyfikacji wybraliśmy model lasu losowego. By ułatwić klasyfikacje postanowilismy rozdzielić wszystkie atrybuty kategoryczne na ich binarne odpowiedniki za pomocą metody get_dummies. Później rozpoczeliśmy klasyfikacje."
   ]
  },
  {
   "cell_type": "code",
   "execution_count": 17,
   "metadata": {},
   "outputs": [],
   "source": [
    "df = pd.concat([df,pd.get_dummies(df.Bank, prefix='Bank__')], axis = 1)\n",
    "df = pd.concat([df,pd.get_dummies(df.Wykształcenie, prefix='Wykształcenie__')], axis = 1)\n",
    "df = pd.concat([df,pd.get_dummies(df.Pochodzenie, prefix='Pochodzenie__')], axis = 1)\n",
    "df = pd.concat([df,pd.get_dummies(df.Obywatelstwo, prefix='Obywatelstwo__')], axis = 1)\n",
    "\n",
    "df.drop(['Bank', 'Wykształcenie', 'Pochodzenie', 'Obywatelstwo'], axis = 1, inplace = True)"
   ]
  },
  {
   "cell_type": "code",
   "execution_count": 18,
   "metadata": {},
   "outputs": [],
   "source": [
    "x = df.drop(columns=['Wynik'])\n",
    "y = df['Wynik']"
   ]
  },
  {
   "cell_type": "code",
   "execution_count": 19,
   "metadata": {},
   "outputs": [
    {
     "name": "stdout",
     "output_type": "stream",
     "text": [
      "Accuracy:  0.8764285714285716\n"
     ]
    }
   ],
   "source": [
    "#from sklearn.ensemble import RandomForestClassifier\n",
    "clf=RandomForestClassifier(n_estimators=100, random_state=17)\n",
    "\n",
    "accuracy = 0\n",
    "for i in range(0,100):\n",
    "    x_train, x_test, y_train, y_test = train_test_split(x, y, test_size=0.3, random_state=17*i)\n",
    "    clf.fit(x_train,y_train)\n",
    "    y_pred=clf.predict(x_test)\n",
    "    accuracy = accuracy + metrics.accuracy_score(y_test, y_pred)\n",
    "print('Accuracy: ', accuracy/100)"
   ]
  },
  {
   "cell_type": "markdown",
   "metadata": {},
   "source": [
    "Tu mamy wynik naszej pierwszej klasyfikacji, do której użyliśmy wszystkich atrybutów."
   ]
  },
  {
   "cell_type": "code",
   "execution_count": 20,
   "metadata": {},
   "outputs": [
    {
     "data": {
      "text/plain": [
       "Poz_hist_kred        0.298\n",
       "Lata_pracy           0.096\n",
       "Przychody            0.087\n",
       "Score_kredytowy      0.083\n",
       "Zadłużenie           0.072\n",
       "Saldo_konta          0.066\n",
       "Wiek                 0.060\n",
       "Umowa_o_pracę        0.047\n",
       "Bank___g             0.012\n",
       "Płeć                 0.012\n",
       "Prawo_jazdy          0.012\n",
       "Wykształcenie___q    0.012\n",
       "Bank___p             0.011\n",
       "Wykształcenie___x    0.010\n",
       "Wykształcenie___c    0.010\n",
       "Wykształcenie___k    0.010\n",
       "Pochodzenie___h      0.009\n",
       "Wykształcenie___w    0.009\n",
       "Pochodzenie___v      0.008\n",
       "Wykształcenie___ff   0.008\n",
       "Wykształcenie___i    0.008\n",
       "Pochodzenie___ff     0.007\n",
       "Wykształcenie___cc   0.007\n",
       "Obywatelstwo___g     0.007\n",
       "Obywatelstwo___s     0.006\n",
       "Wykształcenie___e    0.006\n",
       "Pochodzenie___bb     0.005\n",
       "Pochodzenie___n      0.005\n",
       "Wykształcenie___m    0.004\n",
       "Wykształcenie___aa   0.004\n",
       "Wykształcenie___d    0.004\n",
       "Pochodzenie___j      0.002\n",
       "Bank___gg            0.002\n",
       "Pochodzenie___dd     0.001\n",
       "Pochodzenie___z      0.001\n",
       "Wykształcenie___j    0.001\n",
       "Pochodzenie___o      0.000\n",
       "Wykształcenie___r    0.000\n",
       "Obywatelstwo___p     0.000\n",
       "dtype: float64"
      ]
     },
     "execution_count": 20,
     "metadata": {},
     "output_type": "execute_result"
    }
   ],
   "source": [
    "columns = x.columns\n",
    "feature_imp = pd.Series(clf.feature_importances_,index=columns).sort_values(ascending=False)\n",
    "feature_imp"
   ]
  },
  {
   "cell_type": "code",
   "execution_count": 21,
   "metadata": {},
   "outputs": [
    {
     "data": {
      "image/png": "[encoded data removed]",
      "text/plain": [
       "<Figure size 1000x1000 with 1 Axes>"
      ]
     },
     "metadata": {
      "needs_background": "light"
     },
     "output_type": "display_data"
    }
   ],
   "source": [
    "%matplotlib inline\n",
    "plt.figure(figsize=(10,10),dpi = 100)\n",
    "# Creating a bar plot\n",
    "sns.barplot(x=feature_imp, y=feature_imp.index)\n",
    "# Add labels to your graph\n",
    "plt.xlabel('Feature Importance Score')\n",
    "plt.ylabel('Features')\n",
    "plt.title(\"Visualizing Important Features\")\n",
    "plt.show()"
   ]
  },
  {
   "cell_type": "markdown",
   "metadata": {},
   "source": [
    "Tutaj wyświetliliśmy jak duże znaczenie w klasyfikacji mają poszczególne atrybuty. Postanowiliśmy sprawdzić jak będzie zmieniała się dokładność naszej klasyfikacji w zależności od liczby atrybutów użytych. Badania wykonaliśmy dla dwóch modeli klasyfikacji lasem losowym. W pierwszym, maksymalna liczba atrybutów jaką klasyfikator będzie używał w szukaniu najlepszego podziału w rozgałęzieniu drzewa w naszym lesie jest liczona za pomocą log2 (logartym o podstawie 2 z ilości wszystkich atrybutów), a w drugim jest to pierwiastek (z ilości wszystkich atrybutów). "
   ]
  },
  {
   "cell_type": "code",
   "execution_count": 22,
   "metadata": {},
   "outputs": [
    {
     "name": "stdout",
     "output_type": "stream",
     "text": [
      "<class 'pandas.core.frame.DataFrame'>\n",
      "Int64Index: 653 entries, 0 to 689\n",
      "Data columns (total 39 columns):\n",
      " #   Column              Non-Null Count  Dtype  \n",
      "---  ------              --------------  -----  \n",
      " 0   Płeć                653 non-null    uint8  \n",
      " 1   Wiek                653 non-null    float64\n",
      " 2   Zadłużenie          653 non-null    float64\n",
      " 3   Lata_pracy          653 non-null    float64\n",
      " 4   Poz_hist_kred       653 non-null    uint8  \n",
      " 5   Umowa_o_pracę       653 non-null    uint8  \n",
      " 6   Score_kredytowy     653 non-null    int64  \n",
      " 7   Prawo_jazdy         653 non-null    uint8  \n",
      " 8   Saldo_konta         653 non-null    float64\n",
      " 9   Przychody           653 non-null    int64  \n",
      " 10  Bank___g            653 non-null    uint8  \n",
      " 11  Bank___gg           653 non-null    uint8  \n",
      " 12  Bank___p            653 non-null    uint8  \n",
      " 13  Wykształcenie___aa  653 non-null    uint8  \n",
      " 14  Wykształcenie___c   653 non-null    uint8  \n",
      " 15  Wykształcenie___cc  653 non-null    uint8  \n",
      " 16  Wykształcenie___d   653 non-null    uint8  \n",
      " 17  Wykształcenie___e   653 non-null    uint8  \n",
      " 18  Wykształcenie___ff  653 non-null    uint8  \n",
      " 19  Wykształcenie___i   653 non-null    uint8  \n",
      " 20  Wykształcenie___j   653 non-null    uint8  \n",
      " 21  Wykształcenie___k   653 non-null    uint8  \n",
      " 22  Wykształcenie___m   653 non-null    uint8  \n",
      " 23  Wykształcenie___q   653 non-null    uint8  \n",
      " 24  Wykształcenie___r   653 non-null    uint8  \n",
      " 25  Wykształcenie___w   653 non-null    uint8  \n",
      " 26  Wykształcenie___x   653 non-null    uint8  \n",
      " 27  Pochodzenie___bb    653 non-null    uint8  \n",
      " 28  Pochodzenie___dd    653 non-null    uint8  \n",
      " 29  Pochodzenie___ff    653 non-null    uint8  \n",
      " 30  Pochodzenie___h     653 non-null    uint8  \n",
      " 31  Pochodzenie___j     653 non-null    uint8  \n",
      " 32  Pochodzenie___n     653 non-null    uint8  \n",
      " 33  Pochodzenie___o     653 non-null    uint8  \n",
      " 34  Pochodzenie___v     653 non-null    uint8  \n",
      " 35  Pochodzenie___z     653 non-null    uint8  \n",
      " 36  Obywatelstwo___g    653 non-null    uint8  \n",
      " 37  Obywatelstwo___p    653 non-null    uint8  \n",
      " 38  Obywatelstwo___s    653 non-null    uint8  \n",
      "dtypes: float64(4), int64(2), uint8(33)\n",
      "memory usage: 56.8 KB\n"
     ]
    }
   ],
   "source": [
    "x.info()"
   ]
  },
  {
   "cell_type": "code",
   "execution_count": 23,
   "metadata": {},
   "outputs": [
    {
     "name": "stdout",
     "output_type": "stream",
     "text": [
      "5  features\n",
      "Accuracy:  0.8642857142857144\n",
      "6  features\n",
      "Accuracy:  0.8841836734693876\n",
      "7  features\n",
      "Accuracy:  0.8806122448979592\n",
      "8  features\n",
      "Accuracy:  0.8775510204081632\n",
      "9  features\n",
      "Accuracy:  0.8811224489795917\n",
      "10  features\n",
      "Accuracy:  0.8831632653061223\n",
      "11  features\n",
      "Accuracy:  0.8862244897959183\n",
      "12  features\n",
      "Accuracy:  0.8846938775510204\n",
      "13  features\n",
      "Accuracy:  0.8806122448979593\n",
      "14  features\n",
      "Accuracy:  0.8857142857142858\n",
      "15  features\n",
      "Accuracy:  0.8831632653061223\n",
      "16  features\n",
      "Accuracy:  0.8826530612244898\n",
      "17  features\n",
      "Accuracy:  0.8770408163265306\n",
      "18  features\n",
      "Accuracy:  0.8841836734693878\n",
      "19  features\n",
      "Accuracy:  0.8811224489795919\n",
      "20  features\n",
      "Accuracy:  0.8816326530612246\n"
     ]
    }
   ],
   "source": [
    "features = []\n",
    "features.append(feature_imp.index[0])\n",
    "features.append(feature_imp.index[1])\n",
    "features.append(feature_imp.index[2])\n",
    "features.append(feature_imp.index[3])\n",
    "y = df['Wynik']\n",
    "clf=RandomForestClassifier(n_estimators=100, max_features='log2', random_state=17)\n",
    "accuracy_log2 = []\n",
    "\n",
    "for i in range(4,20):\n",
    "    accuracy = 0\n",
    "    features.append(feature_imp.index[i])\n",
    "    x = df[features]\n",
    "    for j in range(0,10):\n",
    "        x_train, x_test, y_train, y_test = train_test_split(x, y, test_size=0.3, random_state=17*j)\n",
    "        clf.fit(x_train,y_train)\n",
    "        y_pred=clf.predict(x_test)\n",
    "        accuracy = accuracy + metrics.accuracy_score(y_test, y_pred)\n",
    "    print(i+1, ' features')\n",
    "    print('Accuracy: ', accuracy/10)\n",
    "    accuracy_log2.append(accuracy/10)"
   ]
  },
  {
   "cell_type": "code",
   "execution_count": 24,
   "metadata": {},
   "outputs": [
    {
     "name": "stdout",
     "output_type": "stream",
     "text": [
      "5  features\n",
      "Accuracy:  0.8642857142857144\n",
      "6  features\n",
      "Accuracy:  0.8841836734693876\n",
      "7  features\n",
      "Accuracy:  0.8806122448979592\n",
      "8  features\n",
      "Accuracy:  0.8801020408163266\n",
      "9  features\n",
      "Accuracy:  0.8811224489795917\n",
      "10  features\n",
      "Accuracy:  0.8831632653061223\n",
      "11  features\n",
      "Accuracy:  0.8862244897959183\n",
      "12  features\n",
      "Accuracy:  0.8846938775510204\n",
      "13  features\n",
      "Accuracy:  0.8806122448979593\n",
      "14  features\n",
      "Accuracy:  0.8857142857142858\n",
      "15  features\n",
      "Accuracy:  0.8831632653061223\n",
      "16  features\n",
      "Accuracy:  0.8826530612244898\n",
      "17  features\n",
      "Accuracy:  0.8770408163265306\n",
      "18  features\n",
      "Accuracy:  0.8841836734693878\n",
      "19  features\n",
      "Accuracy:  0.8811224489795919\n",
      "20  features\n",
      "Accuracy:  0.8816326530612246\n"
     ]
    }
   ],
   "source": [
    "features = []\n",
    "features.append(feature_imp.index[0])\n",
    "features.append(feature_imp.index[1])\n",
    "features.append(feature_imp.index[2])\n",
    "features.append(feature_imp.index[3])\n",
    "y = df['Wynik']\n",
    "clf=RandomForestClassifier(n_estimators=100, max_features='sqrt', random_state=17)\n",
    "accuracy_sqrt = []\n",
    "\n",
    "for i in range(4,20):\n",
    "    accuracy = 0\n",
    "    features.append(feature_imp.index[i])\n",
    "    x = df[features]\n",
    "    for j in range(0,10):\n",
    "        x_train, x_test, y_train, y_test = train_test_split(x, y, test_size=0.3, random_state=17*j)\n",
    "        clf.fit(x_train,y_train)\n",
    "        y_pred=clf.predict(x_test)\n",
    "        accuracy = accuracy + metrics.accuracy_score(y_test, y_pred)\n",
    "    print(i+1, ' features')\n",
    "    print('Accuracy: ', accuracy/10)\n",
    "    accuracy_sqrt.append(accuracy/10)"
   ]
  },
  {
   "cell_type": "code",
   "execution_count": 25,
   "metadata": {},
   "outputs": [
    {
     "data": {
      "image/png": "[encoded data removed]",
      "text/plain": [
       "<Figure size 1200x1000 with 1 Axes>"
      ]
     },
     "metadata": {
      "needs_background": "light"
     },
     "output_type": "display_data"
    },
    {
     "name": "stdout",
     "output_type": "stream",
     "text": [
      "model log2, średnia dokładność:  0.8811224489795917\n"
     ]
    }
   ],
   "source": [
    "accuracy_log2 = pd.Series(accuracy_log2, index=range(5,21)).sort_values()\n",
    "\n",
    "plt.figure(figsize=(12,10),dpi = 100)\n",
    "accuracy_log2.plot(kind='barh',rot=0);\n",
    "plt.xlim(0.84, 0.9)\n",
    "plt.xlabel('Accuracy Score')\n",
    "plt.ylabel('Number of Features')\n",
    "plt.title(\"Visualizing Accuracies - max_features=log2\")\n",
    "plt.show()\n",
    "print('model log2, średnia dokładność: ', accuracy_log2.mean())"
   ]
  },
  {
   "cell_type": "markdown",
   "metadata": {},
   "source": [
    "W modelu log2 najlepszą dokładność osiągneliśmy przy 11 (0.8862) i 14 (0.8831) atrybutach. Jednak bez wzgledu na liczbę atrybutów, dokładność zawsze była dość wysoka - średnia dokładność = 0.8811 (najmniejsza była dla 5 atrybutów wynosiła 0.8642)"
   ]
  },
  {
   "cell_type": "code",
   "execution_count": 26,
   "metadata": {},
   "outputs": [
    {
     "data": {
      "image/png": "[encoded data removed]",
      "text/plain": [
       "<Figure size 1200x1000 with 1 Axes>"
      ]
     },
     "metadata": {
      "needs_background": "light"
     },
     "output_type": "display_data"
    },
    {
     "name": "stdout",
     "output_type": "stream",
     "text": [
      "model sqrt, średnia dokładność:  0.8812818877551019\n"
     ]
    }
   ],
   "source": [
    "accuracy_sqrt = pd.Series(accuracy_sqrt, index=range(5,21)).sort_values()\n",
    "\n",
    "plt.figure(figsize=(12,10),dpi = 100)\n",
    "accuracy_sqrt.plot(kind='barh',rot=0);\n",
    "plt.xlim(0.84, 0.9)\n",
    "plt.xlabel('Accuracy Score')\n",
    "plt.ylabel('Number of Features')\n",
    "plt.title(\"Visualizing Accuracies - max_features=sqrt\")\n",
    "plt.show()\n",
    "print('model sqrt, średnia dokładność: ', accuracy_sqrt.mean())"
   ]
  },
  {
   "cell_type": "markdown",
   "metadata": {},
   "source": [
    "W modelu sqrt najlepszą dokładność osiągneliśmy przy 11 (0.8862) i 14 (0.8831) atrybutach. W tym modelu, w przypadku 5 atrybutów, dokładność osiągneła 0.8643 co jest dosć gorszym wynikiem niż reszta przypadków. Średnia dokładność: 0.8812\n",
    "\n",
    "Modele log2 i sqrt, nie różnią się niczym z powodu 2 rzeczy:\n",
    "* po pierwsze sqrt i log2 dla małych wartości są sobie praktycznie równe, więc liczba zmiennych wybieranych przez klasyfikatory jest taka sama w większości przypadków\n",
    "* random_state jest ustawiony ten sam dla obu klasyfikatorów"
   ]
  },
  {
   "cell_type": "code",
   "execution_count": 30,
   "metadata": {},
   "outputs": [
    {
     "name": "stdout",
     "output_type": "stream",
     "text": [
      "Accuracy:  0.8699999999999999\n"
     ]
    }
   ],
   "source": [
    "x = df[['Poz_hist_kred', 'Score_kredytowy', 'Lata_pracy', 'Zadłużenie', 'Przychody', 'Wiek', 'Saldo_konta', 'Umowa_o_pracę']]\n",
    "y = df['Wynik']\n",
    "clf=RandomForestClassifier(n_estimators=100, max_features='sqrt', random_state=17)\n",
    "\n",
    "accuracy = 0\n",
    "for i in range(0,100):\n",
    "    x_train, x_test, y_train, y_test = train_test_split(x, y, test_size=0.3, random_state=17*i)\n",
    "    clf.fit(x_train,y_train)\n",
    "    y_pred=clf.predict(x_test)\n",
    "    accuracy = accuracy + metrics.accuracy_score(y_test, y_pred)\n",
    "print('Accuracy: ', accuracy/100)"
   ]
  },
  {
   "cell_type": "code",
   "execution_count": 31,
   "metadata": {},
   "outputs": [
    {
     "data": {
      "image/png": "[encoded data removed]",
      "text/plain": [
       "<Figure size 432x288 with 2 Axes>"
      ]
     },
     "metadata": {
      "needs_background": "light"
     },
     "output_type": "display_data"
    }
   ],
   "source": [
    "conf_mat = metrics.confusion_matrix(y_test, y_pred)\n",
    "ax = sns.heatmap(conf_mat, annot=True, cmap=\"Greens\")\n",
    "\n",
    "ax.set_title('Confusion Matrix\\n\\n');\n",
    "ax.set_xlabel('\\nPredicted Values')\n",
    "ax.set_ylabel('Actual Values ');\n",
    "\n",
    "## Ticket labels - List must be in alphabetical order\n",
    "ax.xaxis.set_ticklabels(['False','True'])\n",
    "ax.yaxis.set_ticklabels(['False','True'])\n",
    "\n",
    "## Display the visualization of the Confusion Matrix.\n",
    "plt.show()"
   ]
  },
  {
   "cell_type": "markdown",
   "metadata": {},
   "source": [
    "Przykładowa macierz pomyłek dla lasu losowego (8 zmiennych, sqrt)"
   ]
  },
  {
   "cell_type": "markdown",
   "metadata": {},
   "source": [
    "## Wnioski:\n",
    "* Przy użyciu lasu losowego otrzymujemy dobrą dokładność dla klasyfikacji naszego zbioru\n",
    "* Mimo wszystko nasza dokładność jest zbyt mała, żeby używać jej gdzieś profesjonalnie\n",
    "* Może to wynikać z błędów w zbiorze uczącym\n",
    "* Las losowy jest dość dobrym klasyfikatorem jeśli chodzi o ten zbiór: dobrze sobie radzi z dużą ilością cech\n",
    "* W przeciwieństwie do drzewa decyzyjnego, lepiej unika dopasowania do zbioru uczącego\n",
    "* Wszystkie nasze klasyfikacje (drzewa losowe) generowały 100 drzew\n",
    "* Klasyfikacje dla klasyfikatorów z użyciem powyżej 5 atrybutów nie różniły się znacząco dokładnością\n",
    "* W naszym zbiorze mamy 8 atrybutów bardziej znaczących niż reszta"
   ]
  },
  {
   "cell_type": "code",
   "execution_count": null,
   "metadata": {},
   "outputs": [],
   "source": []
  }
 ],
 "metadata": {
  "kernelspec": {
   "display_name": "Python 3",
   "language": "python",
   "name": "python3"
  },
  "language_info": {
   "codemirror_mode": {
    "name": "ipython",
    "version": 3
   },
   "file_extension": ".py",
   "mimetype": "text/x-python",
   "name": "python",
   "nbconvert_exporter": "python",
   "pygments_lexer": "ipython3",
   "version": "3.8.8"
  }
 },
 "nbformat": 4,
 "nbformat_minor": 4
}
